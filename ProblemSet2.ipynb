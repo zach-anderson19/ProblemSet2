{
  "nbformat": 4,
  "nbformat_minor": 0,
  "metadata": {
    "colab": {
      "provenance": [],
      "authorship_tag": "ABX9TyMA5wZ8TONb6wUNW8L09JBu",
      "include_colab_link": true
    },
    "kernelspec": {
      "name": "python3",
      "display_name": "Python 3"
    },
    "language_info": {
      "name": "python"
    }
  },
  "cells": [
    {
      "cell_type": "markdown",
      "metadata": {
        "id": "view-in-github",
        "colab_type": "text"
      },
      "source": [
        "<a href=\"https://colab.research.google.com/github/zach-anderson19/ProblemSet2/blob/main/ProblemSet2.ipynb\" target=\"_parent\"><img src=\"https://colab.research.google.com/assets/colab-badge.svg\" alt=\"Open In Colab\"/></a>"
      ]
    },
    {
      "cell_type": "code",
      "execution_count": null,
      "metadata": {
        "colab": {
          "base_uri": "https://localhost:8080/"
        },
        "id": "3PNeDMU4kd7q",
        "outputId": "4843d914-9e00-4e26-d405-579a3b3d697a"
      },
      "outputs": [
        {
          "output_type": "stream",
          "name": "stdout",
          "text": [
            "Remaining balance: 4691.11\n"
          ]
        }
      ],
      "source": [
        "#Problem 1: Paying Debt off in a Year\n",
        "balance = 5000\n",
        "annIntRate = 0.18\n",
        "minMonthRate = 0.02\n",
        "month = 0\n",
        "\n",
        "#month iteration\n",
        "while month < 12:\n",
        "  month += 1\n",
        "\n",
        "  #calculating min payment amount\n",
        "  minPayment = balance * minMonthRate\n",
        "\n",
        "  #subtracting payment amount from current balance\n",
        "  balance = balance - minPayment\n",
        "\n",
        "  #calculates monthly interest on remaining balance\n",
        "  interest = balance * (annIntRate / 12)\n",
        "\n",
        "  #adds that interest amount to remainng balance for the true balance\n",
        "  balance = balance + interest\n",
        "\n",
        "\n",
        "#prints remaining balance to screen\n",
        "print('Remaining balance: ' + \"%.2f\" % (balance))\n",
        "\n"
      ]
    },
    {
      "cell_type": "code",
      "source": [
        "#Problem 2: Paying Debt off in a Year (fixed payment)\n",
        "\n",
        "balance = 5000\n",
        "annIntRate = 0.18\n",
        "month = 0\n",
        "initBalance = balance\n",
        "minPayment = 10\n",
        "monthIntRate = annIntRate / 12\n",
        "\n",
        "#finding minimum payment amount\n",
        "while balance > 0:\n",
        "  minPayment += 10\n",
        "  balance = initBalance\n",
        "\n",
        "  #iterates through 12 months\n",
        "  while month < 12:\n",
        "    month += 1\n",
        "\n",
        "    #new balance after minimum payment is subtracted\n",
        "    balance = balance - minPayment\n",
        "\n",
        "    #calculating interest based on new balance\n",
        "    interest = balance * (annIntRate / 12)\n",
        "\n",
        "    #adding interest amount to current balance to get true balance\n",
        "    balance = balance + interest\n",
        "\n",
        "  #resets month count to 0 to allow simulation to start fresh\n",
        "  month = 0\n",
        "\n",
        "#prints message to screen containing min payment amount\n",
        "print('Lowest Payment: ' + str(minPayment))"
      ],
      "metadata": {
        "colab": {
          "base_uri": "https://localhost:8080/"
        },
        "id": "0PNQTBjdsV2S",
        "outputId": "4bb1c122-0e14-4e40-9259-d957b557c545"
      },
      "execution_count": null,
      "outputs": [
        {
          "output_type": "stream",
          "name": "stdout",
          "text": [
            "Lowest Payment: 460\n"
          ]
        }
      ]
    },
    {
      "cell_type": "code",
      "source": [
        "#Problem 3: Using Bisection Search to Make the Program Faster\n",
        "\n",
        "balance = 5000\n",
        "annIntRate = 0.18\n",
        "month = 0\n",
        "monthIntRate = annIntRate / 12\n",
        "lowerBound = balance / 12\n",
        "upperBound = (balance * (1 + monthIntRate) ** 12) / 12.0\n",
        "original = balance\n",
        "\n",
        "#outer loop to calculate lowest monthly payment using binary search\n",
        "while abs(balance) > 0.01:\n",
        "  #i is the current trial monthly payment\n",
        "  i = (lowerBound + upperBound) / 2\n",
        "  #resets to original balance after each 12 month simulation\n",
        "  balance = original\n",
        "\n",
        "  while month < 12:\n",
        "    month += 1\n",
        "\n",
        "    #subtracts monthly payment (i) from current balance\n",
        "    balance = balance - i\n",
        "\n",
        "    #calculates interest based on current balance\n",
        "    interest = balance * monthIntRate\n",
        "\n",
        "    #calculates new true balance\n",
        "    balance = balance + interest\n",
        "\n",
        "  #resetting month count to 0 for new simulation\n",
        "  month = 0\n",
        "\n",
        "\n",
        "  #adjusting the bounds\n",
        "  if balance <= 0.01:\n",
        "    upperBound = i\n",
        "  elif balance >= 0.01:\n",
        "    lowerBound = i\n",
        "\n",
        "  #rounding balance to 2 decimal places\n",
        "  balance = float(\"%.2f\" % balance)\n",
        "\n",
        "print('Lowest payment: ' + str(\"%.2f\" % i))"
      ],
      "metadata": {
        "colab": {
          "base_uri": "https://localhost:8080/"
        },
        "id": "HobCRLsQzJUb",
        "outputId": "cb20b47f-09fe-467c-ffab-0c2b574838b7"
      },
      "execution_count": null,
      "outputs": [
        {
          "output_type": "stream",
          "name": "stdout",
          "text": [
            "Lowest payment: 451.62\n"
          ]
        }
      ]
    }
  ]
}